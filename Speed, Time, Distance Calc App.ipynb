{
 "cells": [
  {
   "cell_type": "markdown",
   "id": "f9948c19-2ef0-4e33-a4ef-60f600110849",
   "metadata": {},
   "source": [
    "Write a Python program to calculate Speed, Distance, or Time based on user input.\n",
    "\n",
    "### Program Title:\n",
    "\n",
    "Speed, Distance, and Time Calculator\n",
    "\n",
    "### Program Objective:\n",
    "\n",
    "To develop a program that calculates Speed, Distance, or Time based on the user’s choice and input values, using the standard motion formulas.\n",
    "\n",
    "### Introduction:\n",
    "\n",
    "This program helps users calculate one of the three motion parameters — Speed, Distance, or Time — when the other two are known.\n",
    "\n",
    "The formulas used are:\n",
    "\n",
    "- Speed = Distance / Time\n",
    "\n",
    "- Distance = Speed × Time\n",
    "\n",
    "- Time = Distance / Speed\n",
    "\n",
    "The program provides a menu-driven system where the user can choose what to calculate. It also includes error handling for invalid inputs, negative values, and division by zero.\n",
    "\n",
    "#### Program Logic:\n",
    "\n",
    "Start the Program\n",
    "\n",
    "Display Menu Options:\n",
    "\n",
    "1. Calculate Speed\n",
    "2. Calculate Distance\n",
    "3. Calculate Time\n",
    "4. Exit\n",
    "\n",
    "\n",
    "Ask the user to choose an option (1–4).\n",
    "\n",
    "Based on the user’s choice:\n",
    "\n",
    "If choice = 1 (Speed):\n",
    "\n",
    "Input: Distance, Time\n",
    "\n",
    "Check if inputs are positive and Time ≠ 0\n",
    "\n",
    "Formula: Speed = Distance / Time\n",
    "\n",
    "Display Speed\n",
    "\n",
    "If choice = 2 (Distance):\n",
    "\n",
    "Input: Speed, Time\n",
    "\n",
    "Check if inputs are positive\n",
    "\n",
    "Formula: Distance = Speed × Time\n",
    "\n",
    "Display Distance\n",
    "\n",
    "If choice = 3 (Time):\n",
    "\n",
    "Input: Distance, Speed\n",
    "\n",
    "Check if inputs are positive and Speed ≠ 0\n",
    "\n",
    "Formula: Time = Distance / Speed\n",
    "\n",
    "Display Time\n",
    "\n",
    "If choice = 4 (Exit):\n",
    "\n",
    "Display a goodbye message\n",
    "\n",
    "Stop the program\n",
    "\n",
    "If the user enters an invalid choice:\n",
    "\n",
    "Display an error message\n",
    "\n",
    "Show the menu again\n",
    "\n",
    "Repeat the process until the user selects \"Exit\"."
   ]
  },
  {
   "cell_type": "raw",
   "id": "19ecbbff-84a8-474d-b554-f97abdb983d6",
   "metadata": {},
   "source": [
    "###Method#1"
   ]
  },
  {
   "cell_type": "code",
   "execution_count": 19,
   "id": "b8f72edb-7d4b-4941-b1b6-8775fcdbb4c8",
   "metadata": {},
   "outputs": [
    {
     "name": "stdin",
     "output_type": "stream",
     "text": [
      "To start the program: Press 1 or To leave the program: Press any other key \n",
      "Enter the number: 1\n",
      "\n",
      "            Press 1: Calculate Speed\n",
      "            Press 2: Calculate Distance\n",
      "            Press 3: Calculate Time\n",
      "            Press 4: Exit\n",
      "            Enter number: 1\n"
     ]
    },
    {
     "name": "stdout",
     "output_type": "stream",
     "text": [
      "\"Calculate Speed\"\n"
     ]
    },
    {
     "name": "stdin",
     "output_type": "stream",
     "text": [
      "Enter the Distance in meter(m): 5\n",
      "Enter the Time in second (s): 5\n"
     ]
    },
    {
     "name": "stdout",
     "output_type": "stream",
     "text": [
      "Speed is 1.0 m/s\n",
      "\n"
     ]
    },
    {
     "name": "stdin",
     "output_type": "stream",
     "text": [
      "\n",
      "            Press 1: Calculate Speed\n",
      "            Press 2: Calculate Distance\n",
      "            Press 3: Calculate Time\n",
      "            Press 4: Exit\n",
      "            Enter number: 2\n"
     ]
    },
    {
     "name": "stdout",
     "output_type": "stream",
     "text": [
      "\"Calculate Distance\"\n"
     ]
    },
    {
     "name": "stdin",
     "output_type": "stream",
     "text": [
      "Enter the Speed in meter/second: 1\n",
      "Enter the Time in second (s): 5\n"
     ]
    },
    {
     "name": "stdout",
     "output_type": "stream",
     "text": [
      "Distance is 5.0 meter\n",
      "\n"
     ]
    },
    {
     "name": "stdin",
     "output_type": "stream",
     "text": [
      "\n",
      "            Press 1: Calculate Speed\n",
      "            Press 2: Calculate Distance\n",
      "            Press 3: Calculate Time\n",
      "            Press 4: Exit\n",
      "            Enter number: 3\n"
     ]
    },
    {
     "name": "stdout",
     "output_type": "stream",
     "text": [
      "\"Calculate Time\"\n"
     ]
    },
    {
     "name": "stdin",
     "output_type": "stream",
     "text": [
      "Enter the Speed in meter/second: 1\n",
      "Enter the Distance in meter: 5\n"
     ]
    },
    {
     "name": "stdout",
     "output_type": "stream",
     "text": [
      "Time is 5.0 second\n",
      "\n"
     ]
    },
    {
     "name": "stdin",
     "output_type": "stream",
     "text": [
      "\n",
      "            Press 1: Calculate Speed\n",
      "            Press 2: Calculate Distance\n",
      "            Press 3: Calculate Time\n",
      "            Press 4: Exit\n",
      "            Enter number: 1\n"
     ]
    },
    {
     "name": "stdout",
     "output_type": "stream",
     "text": [
      "\"Calculate Speed\"\n"
     ]
    },
    {
     "name": "stdin",
     "output_type": "stream",
     "text": [
      "Enter the Distance in meter(m): 0\n",
      "Enter the Time in second (s): 0\n"
     ]
    },
    {
     "name": "stdout",
     "output_type": "stream",
     "text": [
      "Zero can not be acceptable for Time, Distance and/or speed. Please enter a non zero value.\n",
      "\n"
     ]
    },
    {
     "name": "stdin",
     "output_type": "stream",
     "text": [
      "\n",
      "            Press 1: Calculate Speed\n",
      "            Press 2: Calculate Distance\n",
      "            Press 3: Calculate Time\n",
      "            Press 4: Exit\n",
      "            Enter number: 8\n"
     ]
    },
    {
     "name": "stdout",
     "output_type": "stream",
     "text": [
      "Press a valid number 1,2,3 or 4\n"
     ]
    },
    {
     "name": "stdin",
     "output_type": "stream",
     "text": [
      "\n",
      "            Press 1: Calculate Speed\n",
      "            Press 2: Calculate Distance\n",
      "            Press 3: Calculate Time\n",
      "            Press 4: Exit\n",
      "            Enter number: 4\n"
     ]
    },
    {
     "name": "stdout",
     "output_type": "stream",
     "text": [
      "Good Bye\n",
      "\n"
     ]
    }
   ],
   "source": [
    "start_the_program = int(input(\"To start the program: Press 1 or To leave the program: Press any other key \\nEnter the number:\"))\n",
    "\n",
    "if start_the_program == 1:\n",
    "    attempt = 0\n",
    "    max_attempt = 100\n",
    "    while attempt<max_attempt:\n",
    "        try:\n",
    "            Program_input = int(input(\"\"\"\n",
    "            Press 1: Calculate Speed\n",
    "            Press 2: Calculate Distance\n",
    "            Press 3: Calculate Time\n",
    "            Press 4: Exit\n",
    "            Enter number:\"\"\"))\n",
    "            if Program_input == 1:\n",
    "                print('\"Calculate Speed\"')\n",
    "                distance1=int(input(\"Enter the Distance in meter(m):\"))\n",
    "                time1=int(input(\"Enter the Time in second (s):\"))\n",
    "                result1= float(distance1/time1)\n",
    "                print(\"Speed is\",result1,\"m/s\")\n",
    "                print()\n",
    "            elif Program_input == 2:\n",
    "                print('\"Calculate Distance\"')\n",
    "                speed2 = int(input(\"Enter the Speed in meter/second:\"))\n",
    "                time2 = int(input(\"Enter the Time in second (s):\"))\n",
    "                result2 = float(speed2*time2)\n",
    "                print(\"Distance is\",result2,\"meter\")\n",
    "                print()\n",
    "            elif Program_input == 3:\n",
    "                print('\"Calculate Time\"')\n",
    "                speed3 = int(input(\"Enter the Speed in meter/second:\"))\n",
    "                distance3 = int(input(\"Enter the Distance in meter:\"))\n",
    "                result3 = float(distance3/speed3)\n",
    "                print(\"Time is\",result3,\"second\")\n",
    "                print()\n",
    "            elif Program_input == 4:\n",
    "                print(\"Good Bye\")\n",
    "                break\n",
    "            else:\n",
    "                print(\"Press a valid number 1,2,3 or 4\")\n",
    "                    \n",
    "        except ZeroDivisionError:\n",
    "                print(\"Zero can not be acceptable for Time, Distance and/or speed. Please enter a non zero value.\")        \n",
    "                print()\n",
    "    attempt +=1 \n",
    "    print()\n",
    "else:\n",
    "    print(\"Good Bye\")"
   ]
  },
  {
   "cell_type": "code",
   "execution_count": 25,
   "id": "4a4ab0bc-ddb1-4d68-bfbd-42a7ad8e1b34",
   "metadata": {},
   "outputs": [
    {
     "name": "stdin",
     "output_type": "stream",
     "text": [
      "To start the program: Press 1 or To leave the program: Press any other key \n",
      "Enter the number: 8\n"
     ]
    },
    {
     "name": "stdout",
     "output_type": "stream",
     "text": [
      "Good Bye\n"
     ]
    }
   ],
   "source": [
    "start_the_program = int(input(\"To start the program: Press 1 or To leave the program: Press any other key \\nEnter the number:\"))\n",
    "\n",
    "if start_the_program == 1:\n",
    "    attempt = 0\n",
    "    max_attempt = 100\n",
    "    while attempt<max_attempt:\n",
    "        try:\n",
    "            Program_input = int(input(\"\"\"\n",
    "            Press 1: Calculate Speed\n",
    "            Press 2: Calculate Distance\n",
    "            Press 3: Calculate Time\n",
    "            Press 4: Exit\n",
    "            Enter number:\"\"\"))\n",
    "            if Program_input == 1:\n",
    "                print('\"Calculate Speed\"')\n",
    "                distance1=int(input(\"Enter the Distance in meter(m):\"))\n",
    "                time1=int(input(\"Enter the Time in second (s):\"))\n",
    "                result1= float(distance1/time1)\n",
    "                print(\"Speed is\",result1,\"m/s\")\n",
    "                print()\n",
    "            elif Program_input == 2:\n",
    "                print('\"Calculate Distance\"')\n",
    "                speed2 = int(input(\"Enter the Speed in meter/second:\"))\n",
    "                time2 = int(input(\"Enter the Time in second (s):\"))\n",
    "                result2 = float(speed2*time2)\n",
    "                print(\"Distance is\",result2,\"meter\")\n",
    "                print()\n",
    "            elif Program_input == 3:\n",
    "                print('\"Calculate Time\"')\n",
    "                speed3 = int(input(\"Enter the Speed in meter/second:\"))\n",
    "                distance3 = int(input(\"Enter the Distance in meter:\"))\n",
    "                result3 = float(distance3/speed3)\n",
    "                print(\"Time is\",result3,\"second\")\n",
    "                print()\n",
    "            elif Program_input == 4:\n",
    "                print(\"Good Bye\")\n",
    "                break\n",
    "            else:\n",
    "                print(\"Press a valid number 1,2,3 or 4\")\n",
    "                    \n",
    "        except ZeroDivisionError:\n",
    "                print(\"Zero can not be acceptable for Time, Distance and/or speed. Please enter a non zero value.\")        \n",
    "                print()\n",
    "    attempt +=1 \n",
    "    print()\n",
    "else:\n",
    "    print(\"Good Bye\")"
   ]
  },
  {
   "cell_type": "raw",
   "id": "68c9e71e-6bc5-4d11-b8c8-8d007a76d566",
   "metadata": {},
   "source": [
    "Method#2"
   ]
  },
  {
   "cell_type": "code",
   "execution_count": 23,
   "id": "50fbf5f5-80a1-4730-9367-22551b2f5c94",
   "metadata": {},
   "outputs": [
    {
     "name": "stdin",
     "output_type": "stream",
     "text": [
      "To start the program: Press 1 or To leave the program: Press any other key \n",
      "Enter the number: 1\n",
      "\n",
      "            Press 1: Calculate Speed\n",
      "            Press 2: Calculate Distance\n",
      "            Press 3: Calculate Time\n",
      "            Press 4: Exit\n",
      "            Enter number: 1\n"
     ]
    },
    {
     "name": "stdout",
     "output_type": "stream",
     "text": [
      "\"Calculate Speed\"\n"
     ]
    },
    {
     "name": "stdin",
     "output_type": "stream",
     "text": [
      "Enter the Distance in meter(m): 5\n",
      "Enter the Time in second (s): 5\n"
     ]
    },
    {
     "name": "stdout",
     "output_type": "stream",
     "text": [
      "Speed is 1.0 m/s\n"
     ]
    },
    {
     "name": "stdin",
     "output_type": "stream",
     "text": [
      "\n",
      "            Press 1: Calculate Speed\n",
      "            Press 2: Calculate Distance\n",
      "            Press 3: Calculate Time\n",
      "            Press 4: Exit\n",
      "            Enter number: 2\n"
     ]
    },
    {
     "name": "stdout",
     "output_type": "stream",
     "text": [
      "\"Calculate Distance\"\n"
     ]
    },
    {
     "name": "stdin",
     "output_type": "stream",
     "text": [
      "Enter the Speed in meter/second: 1\n",
      "Enter the Time in second (s): 5\n"
     ]
    },
    {
     "name": "stdout",
     "output_type": "stream",
     "text": [
      "Distance is 5.0 meter\n"
     ]
    },
    {
     "name": "stdin",
     "output_type": "stream",
     "text": [
      "\n",
      "            Press 1: Calculate Speed\n",
      "            Press 2: Calculate Distance\n",
      "            Press 3: Calculate Time\n",
      "            Press 4: Exit\n",
      "            Enter number: 3\n"
     ]
    },
    {
     "name": "stdout",
     "output_type": "stream",
     "text": [
      "\"Calculate Time\"\n"
     ]
    },
    {
     "name": "stdin",
     "output_type": "stream",
     "text": [
      "Enter the Speed in meter/second: 1\n",
      "Enter the Distance in meter: 5\n"
     ]
    },
    {
     "name": "stdout",
     "output_type": "stream",
     "text": [
      "Time is 5.0 second\n"
     ]
    },
    {
     "name": "stdin",
     "output_type": "stream",
     "text": [
      "\n",
      "            Press 1: Calculate Speed\n",
      "            Press 2: Calculate Distance\n",
      "            Press 3: Calculate Time\n",
      "            Press 4: Exit\n",
      "            Enter number: 1\n"
     ]
    },
    {
     "name": "stdout",
     "output_type": "stream",
     "text": [
      "\"Calculate Speed\"\n"
     ]
    },
    {
     "name": "stdin",
     "output_type": "stream",
     "text": [
      "Enter the Distance in meter(m): 0\n",
      "Enter the Time in second (s): -2\n"
     ]
    },
    {
     "name": "stdout",
     "output_type": "stream",
     "text": [
      "Enter a non zero and positive number\n"
     ]
    },
    {
     "name": "stdin",
     "output_type": "stream",
     "text": [
      "\n",
      "            Press 1: Calculate Speed\n",
      "            Press 2: Calculate Distance\n",
      "            Press 3: Calculate Time\n",
      "            Press 4: Exit\n",
      "            Enter number: 8\n"
     ]
    },
    {
     "name": "stdout",
     "output_type": "stream",
     "text": [
      "Press a valid number 1,2,3 or 4\n"
     ]
    },
    {
     "name": "stdin",
     "output_type": "stream",
     "text": [
      "\n",
      "            Press 1: Calculate Speed\n",
      "            Press 2: Calculate Distance\n",
      "            Press 3: Calculate Time\n",
      "            Press 4: Exit\n",
      "            Enter number: 4\n"
     ]
    },
    {
     "name": "stdout",
     "output_type": "stream",
     "text": [
      "Good Bye\n",
      "\n"
     ]
    }
   ],
   "source": [
    "start_the_program = int(input(\"To start the program: Press 1 or To leave the program: Press any other key \\nEnter the number:\"))\n",
    "\n",
    "if start_the_program == 1:\n",
    "    attempt = 0\n",
    "    max_attempt = 100\n",
    "    while attempt<max_attempt:\n",
    "        try:\n",
    "            Program_input = int(input(\"\"\"\n",
    "            Press 1: Calculate Speed\n",
    "            Press 2: Calculate Distance\n",
    "            Press 3: Calculate Time\n",
    "            Press 4: Exit\n",
    "            Enter number:\"\"\"))\n",
    "            if Program_input == 1:\n",
    "                print('\"Calculate Speed\"')\n",
    "                distance1=int(input(\"Enter the Distance in meter(m):\"))\n",
    "                time1=int(input(\"Enter the Time in second (s):\"))\n",
    "                if distance1>0 and time1 != 0:\n",
    "                    result1= float(distance1/time1)\n",
    "                    print(\"Speed is\",result1,\"m/s\")\n",
    "                else:\n",
    "                    print(\"Enter a non zero and positive number\")    \n",
    "            elif Program_input == 2:\n",
    "                print('\"Calculate Distance\"')\n",
    "                speed2 = int(input(\"Enter the Speed in meter/second:\"))\n",
    "                time2 = int(input(\"Enter the Time in second (s):\"))\n",
    "                if speed2>0 and time2 != 0:                \n",
    "                    result2 = float(speed2*time2)\n",
    "                    print(\"Distance is\",result2,\"meter\")\n",
    "                else:\n",
    "                    print(\"Enter a non zero and positive number\")\n",
    "            elif Program_input == 3:\n",
    "                print('\"Calculate Time\"')\n",
    "                speed3 = int(input(\"Enter the Speed in meter/second:\"))\n",
    "                distance3 = int(input(\"Enter the Distance in meter:\"))\n",
    "                if speed3 >0 and distance3!=0:\n",
    "                    result3 = float(distance3/speed3)\n",
    "                    print(\"Time is\",result3,\"second\")\n",
    "                else:\n",
    "                    print(\"Enter a non zero and positive number\")\n",
    "            elif Program_input == 4:\n",
    "                print(\"Good Bye\")\n",
    "                break\n",
    "            else:\n",
    "                print(\"Press a valid number 1,2,3 or 4\")\n",
    "                    \n",
    "        except ZeroDivisionError:\n",
    "                print(\"Zero can not be acceptable for Time, Distance and/or speed. Please enter a non zero value.\")        \n",
    "                print()\n",
    "    attempt +=1 \n",
    "    print()\n",
    "else:\n",
    "    print(\"Good Bye\")\n",
    "\n"
   ]
  },
  {
   "cell_type": "code",
   "execution_count": 24,
   "id": "4b524206-54ba-4b5f-b54f-f01be1254d6b",
   "metadata": {},
   "outputs": [
    {
     "name": "stdin",
     "output_type": "stream",
     "text": [
      "To start the program: Press 1 or To leave the program: Press any other key \n",
      "Enter the number: 8\n"
     ]
    },
    {
     "name": "stdout",
     "output_type": "stream",
     "text": [
      "Good Bye\n"
     ]
    }
   ],
   "source": [
    "start_the_program = int(input(\"To start the program: Press 1 or To leave the program: Press any other key \\nEnter the number:\"))\n",
    "\n",
    "if start_the_program == 1:\n",
    "    attempt = 0\n",
    "    max_attempt = 100\n",
    "    while attempt<max_attempt:\n",
    "        try:\n",
    "            Program_input = int(input(\"\"\"\n",
    "            Press 1: Calculate Speed\n",
    "            Press 2: Calculate Distance\n",
    "            Press 3: Calculate Time\n",
    "            Press 4: Exit\n",
    "            Enter number:\"\"\"))\n",
    "            if Program_input == 1:\n",
    "                print('\"Calculate Speed\"')\n",
    "                distance1=int(input(\"Enter the Distance in meter(m):\"))\n",
    "                time1=int(input(\"Enter the Time in second (s):\"))\n",
    "                if distance1>0 and time1 != 0:\n",
    "                    result1= float(distance1/time1)\n",
    "                    print(\"Speed is\",result1,\"m/s\")\n",
    "                else:\n",
    "                    print(\"Enter a non zero and positive number\")    \n",
    "            elif Program_input == 2:\n",
    "                print('\"Calculate Distance\"')\n",
    "                speed2 = int(input(\"Enter the Speed in meter/second:\"))\n",
    "                time2 = int(input(\"Enter the Time in second (s):\"))\n",
    "                if speed2>0 and time2 != 0:                \n",
    "                    result2 = float(speed2*time2)\n",
    "                    print(\"Distance is\",result2,\"meter\")\n",
    "                else:\n",
    "                    print(\"Enter a non zero and positive number\")\n",
    "            elif Program_input == 3:\n",
    "                print('\"Calculate Time\"')\n",
    "                speed3 = int(input(\"Enter the Speed in meter/second:\"))\n",
    "                distance3 = int(input(\"Enter the Distance in meter:\"))\n",
    "                if speed3 >0 and distance3!=0:\n",
    "                    result3 = float(distance3/speed3)\n",
    "                    print(\"Time is\",result3,\"second\")\n",
    "                else:\n",
    "                    print(\"Enter a non zero and positive number\")\n",
    "            elif Program_input == 4:\n",
    "                print(\"Good Bye\")\n",
    "                break\n",
    "            else:\n",
    "                print(\"Press a valid number 1,2,3 or 4\")\n",
    "                    \n",
    "        except ZeroDivisionError:\n",
    "                print(\"Zero can not be acceptable for Time, Distance and/or speed. Please enter a non zero value.\")        \n",
    "                print()\n",
    "    attempt +=1 \n",
    "    print()\n",
    "else:\n",
    "    print(\"Good Bye\")\n",
    "\n"
   ]
  },
  {
   "cell_type": "code",
   "execution_count": null,
   "id": "ba0e0c3c-cbfd-40d4-9d83-56534f055d35",
   "metadata": {},
   "outputs": [],
   "source": []
  }
 ],
 "metadata": {
  "kernelspec": {
   "display_name": "Python [conda env:base] *",
   "language": "python",
   "name": "conda-base-py"
  },
  "language_info": {
   "codemirror_mode": {
    "name": "ipython",
    "version": 3
   },
   "file_extension": ".py",
   "mimetype": "text/x-python",
   "name": "python",
   "nbconvert_exporter": "python",
   "pygments_lexer": "ipython3",
   "version": "3.13.5"
  }
 },
 "nbformat": 4,
 "nbformat_minor": 5
}
